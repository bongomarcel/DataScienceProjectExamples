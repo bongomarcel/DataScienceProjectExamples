{
 "cells": [
  {
   "cell_type": "markdown",
   "id": "8bdc043f",
   "metadata": {},
   "source": [
    "# Table of Contents\n",
    "\n",
    "- [Imports](#Imports)\n",
    "- [Introduction](#Imports)\n",
    "- [Pipeline Overview](#Pipeline-Overview)\n",
    "- [Data-Used-&-Data-Preparation](#Data-Used-&-Data-Preparation)\n",
    "- [Methodology](#Methodology)\n",
    "- [Results](#Results)"
   ]
  },
  {
   "cell_type": "markdown",
   "id": "b97ee6a0",
   "metadata": {},
   "source": [
    "#### Imports"
   ]
  },
  {
   "cell_type": "code",
   "execution_count": 12,
   "id": "8c0729b2",
   "metadata": {
    "ExecuteTime": {
     "end_time": "2022-11-05T11:02:02.444450Z",
     "start_time": "2022-11-05T11:02:01.838015Z"
    },
    "code_folding": []
   },
   "outputs": [],
   "source": [
    "# Imports\n",
    "import pandas as pd\n",
    "import numpy as np\n",
    "import seaborn as sns\n",
    "from tqdm import tqdm_notebook\n",
    "from tqdm import tqdm\n",
    "import matplotlib.pyplot as plt\n",
    "import ipywidgets as widgets\n",
    "from ipywidgets import interact\n",
    "from scipy.stats import ttest_ind\n",
    "import matplotlib"
   ]
  },
  {
   "cell_type": "code",
   "execution_count": 2,
   "id": "f8ffbf1c",
   "metadata": {
    "ExecuteTime": {
     "end_time": "2022-11-05T11:02:03.754937Z",
     "start_time": "2022-11-05T11:02:02.447342Z"
    },
    "code_folding": []
   },
   "outputs": [
    {
     "name": "stdout",
     "output_type": "stream",
     "text": [
      "Reading UFO data...\n",
      "Reading OkCupid data...\n",
      "Reading TikTok data...\n",
      "Reading Chipotle data...\n",
      "Reading California data...\n"
     ]
    }
   ],
   "source": [
    "# Reading in the datasets\n",
    "print(\"Reading UFO data...\")\n",
    "ufo = pd.read_csv('../data/ufos.csv')\n",
    "print(\"Reading OkCupid data...\")\n",
    "ok = pd.read_csv('../data/okcupid_profiles.csv')\n",
    "print(\"Reading TikTok data...\")\n",
    "tt = pd.read_json('../data/tiktoks.jsonlines', lines=True)\n",
    "print(\"Reading Chipotle data...\")\n",
    "chip = pd.read_csv('../data/chipotle.csv')\n",
    "print(\"Reading California data...\")\n",
    "cali = pd.read_csv('../data/cali.csv', sep=';')\n"
   ]
  },
  {
   "cell_type": "markdown",
   "id": "cc28a1db",
   "metadata": {},
   "source": [
    "# Introduction\n",
    "\n",
    "There are three kinds of lies: lies, damned lies, and statistics. This article looks to explore that third kind though examples. It is increadibly easy to draw subjective conclusions from objective data that it often happens without the author's intention. This is so common that the Wikipedia article for [Misuse of Statistics](https://en.wikipedia.org/wiki/Misuse_of_statistics) starts out by saying \"For other uses, see [Manipulation](https://en.wikipedia.org/wiki/Manipulation).\"\n",
    "\n",
    "The issue with statistics is that any form of summary is making subjective choices about what is important about the original dataset, and what can be excluded.\n",
    "\n",
    "This article will go through some common and some esoteric-but-interesting issues that crop up when making summaries and visuals of data. It should be useful for the layperson who wants to be less easily fooled, as well as for the visualisation creator who wishes to avoid common pitfalls.\n",
    "\n",
    "It is found that there are many different ways to fool the reader, but these can be divided into visual and numeric categories. First some common visual tricks are explained, and then some numerical phenomena which appear to be paradoxes are covered.\n"
   ]
  },
  {
   "cell_type": "markdown",
   "id": "c201d1b3",
   "metadata": {},
   "source": [
    "# Pipeline Overview\n",
    "\n",
    "Five datasets were either downloaded from online sources and stored locally or were genenerated on demand. These datasets were pre-processed to remove problematic or erroneous entries (such as using backticks \\` instead of single quotes ').\n",
    "\n",
    "One of the datasets comes from scraping the social media website TikTok and uses a web-scraper implemented in Python to collect information from TikTok videos.\n"
   ]
  },
  {
   "cell_type": "markdown",
   "id": "a8f76b19",
   "metadata": {},
   "source": [
    "# Data Used & Data Preparation\n",
    "\n",
    "> High-level description of the data that was collected. Description of how the data wrangling processes: how was the data selected, cleaned, and merged?\n",
    "\n",
    "One generated dataset and five real-world datasets were used:\n",
    "\n",
    "- The [`ok`](https://www.kaggle.com/datasets/andrewmvd/okcupid-profiles) \n",
    "    dataset contains OkCupid anonymised dating profiles from 60 000 people\n",
    "    in the San Francisco, California area. Each profile contains self-reported\n",
    "    information on the person's gender, ethnicity, body type, height,\n",
    "    income, sexual orientation, relationship status, and free-form answers \n",
    "    to several short-essay questions such as \"Things I'm really good at\" \n",
    "    or \"You should message me if...\".\n",
    "\n",
    "- The [`cali`](https://www.kaggle.com/datasets/wduckett/californiaddsexpenditures)\n",
    "    dataset contains 800 observations of data regarding the \n",
    "    allocation of funding from the Department of Developmental Services to\n",
    "    developmentally-disabled individuals in California in 2014. Each observation\n",
    "    records the amount of funding allocated, as well as the ethnicity, the \n",
    "    sex, and the age of the individual.\n",
    "\n",
    "- The [`ufo`](https://www.kaggle.com/datasets/camnugent/ufo-sightings-around-the-world)\n",
    "    dataset contains 70 000 UFO sightings from across the world between\n",
    "    1906 and 2014. Most of the sightings are in North America, and they all record different\n",
    "    information about the encounter such as the shape of the UFO, the length of the encounter,\n",
    "    a free-form description, the date the encounter was documented, and the latitude/longidute\n",
    "    of the encounter.\n",
    "    \n",
    "- The [`chip`](https://www.kaggle.com/datasets/jeffreybraun/chipotle-locations) \n",
    "    dataset contains the latitude and longitude of every Chipotle chain restaurant in\n",
    "    North America.\n",
    "\n",
    "\n",
    "- The `tt` dataset (collected by the author) contains information about 50 000 \n",
    "    TikToks scraped between 2022-07-28 and \n",
    "    2022-11-03. For each TikTok, the URL, the audio used and the creator name is \n",
    "    recorded as well as the number of likes, comments, followers, and follower likes.\n",
    "\n",
    "\n",
    "- The `book` dataset (which will be generated when it is discussed) contains a set of 1000 imaginary\n",
    "    books, each rated on their popularity (what fraction of the general population know about the book)\n",
    "    and the \"bingeability\" (how easy it is to finish the book)."
   ]
  },
  {
   "cell_type": "markdown",
   "id": "7dcadde6",
   "metadata": {},
   "source": [
    "## Clean up the UFO sightings dataset\n",
    "\n",
    "The `ufo` dataset had lots of backticks that were replaced with `'`, and some times were 24:00 which were replaced with 23:59. Many of the latitude and longitude values just contained stray characters, such as `-40d203` which were delt with on a case-by-case basis. Additionally only the observations in North America were included so as to ease intepretation of the coordinate data."
   ]
  },
  {
   "cell_type": "code",
   "execution_count": 3,
   "id": "373a5dd8",
   "metadata": {
    "ExecuteTime": {
     "end_time": "2022-11-05T11:02:03.764402Z",
     "start_time": "2022-11-05T11:02:03.755845Z"
    },
    "code_folding": [
     0
    ]
   },
   "outputs": [],
   "source": [
    "# Only include sightings from the US\n",
    "lat_mean = 40\n",
    "lng_mean = -100\n",
    "ufo = ufo[\n",
    "    (ufo.latitude.between( lat_mean-30, lat_mean+30)) & \n",
    "    (ufo.longitude.between(lng_mean-30, lng_mean+30))\n",
    "]"
   ]
  },
  {
   "cell_type": "markdown",
   "id": "96adb8ac",
   "metadata": {},
   "source": [
    "## Clean up the California dataset\n",
    "\n",
    "The `cali` dataset was largely well-formatted, however the `Age Cohort` feature was changed so as to make the formatting of the age cohorts more uniform. For example, the cohort `0 to 5` became `00-05`. Additionally, only the `Hispanic` and `White not Hispanic` ethnicities were kept, as the other ethnicities will not be used for explanatory purposes \n"
   ]
  },
  {
   "cell_type": "code",
   "execution_count": 4,
   "id": "5a007232",
   "metadata": {
    "ExecuteTime": {
     "end_time": "2022-11-05T11:02:03.768727Z",
     "start_time": "2022-11-05T11:02:03.765410Z"
    },
    "code_folding": [
     0
    ]
   },
   "outputs": [],
   "source": [
    "# This data set contains data regarding the allocation of funding from the Department of Developmental \n",
    "# Services to developmentally-disabled individuals in California in 2014. \n",
    "cali['Age Cohort'] = cali['Age Cohort'].replace({\n",
    "    '0 to 5': '00-05',\n",
    "    '6 to 12': '06-12',\n",
    "    '13 to 17': '13-17',\n",
    "    '18 to 21': '18-21',\n",
    "    '22 to 50': '22-50',\n",
    "    '51': '51+',\n",
    "})\n",
    "cali = cali[cali.Ethnicity.isin(['White not Hispanic', 'Hispanic'])]"
   ]
  },
  {
   "cell_type": "markdown",
   "id": "b69943fe",
   "metadata": {},
   "source": [
    "## Clean up the OkCupid Dating dataset\n",
    "\n",
    "The `ok` dataset required the most pre-processing. The many `essay0`, `essay1`, ..., `essay9` columns were renamed to be more intuitive. The `income` column had many `-1` values which were assumed to represent missing values and so replaced with `np.nan`. The `sex` column only contained `m` or `f` values, and so was supplemented with a new `is_male` column that is true if `sex` is `m`.\n"
   ]
  },
  {
   "cell_type": "code",
   "execution_count": 5,
   "id": "6a486536",
   "metadata": {
    "ExecuteTime": {
     "end_time": "2022-11-05T11:02:03.784501Z",
     "start_time": "2022-11-05T11:02:03.769811Z"
    },
    "code_folding": [
     0
    ]
   },
   "outputs": [],
   "source": [
    "ok = ok.rename({\n",
    "    \"essay0\": \"sa_summary\",               # My self summary\n",
    "    \"essay1\": \"sa_wyd\",                   # What I’m doing with my life\n",
    "    \"essay2\": \"sa_good_at\",               # I’m really good at\n",
    "    \"essay3\": \"sa_most_noticable_thing\",  # The first thing people usually notice about me\n",
    "    \"essay4\": \"sa_favorites\",             # Favorite books, movies, show, music, and food\n",
    "    \"essay5\": \"sa_six_things_i_need\",     # The six things I could never do without\n",
    "    \"essay6\": \"sa_i_think_about\",         # I spend a lot of time thinking about\n",
    "    \"essay7\": \"sa_friday_night\",          # On a typical Friday night I am\n",
    "    \"essay8\": \"sa_something_private\",     # The most private thing I am willing to admit\n",
    "    \"essay9\": \"sa_msg_iff\",               # You should message me if...\n",
    "}, axis='columns')\n",
    "ok['income'] = ok['income'].replace(-1, np.nan)\n",
    "ok['is_male'] = np.where(ok['sex'] == 'm', True, False)"
   ]
  },
  {
   "cell_type": "markdown",
   "id": "b3dbbfdf",
   "metadata": {},
   "source": [
    "The `ok` dataset also has an `ethnicity` column which is a list of ethnicities like `asian, black, other` or `white, other`. These were separated into a new column for each ethnicity like `eth_black` or `eth_other`, where the column is True if that person declared themselves to be of that ethnicity, and False otherwise"
   ]
  },
  {
   "cell_type": "code",
   "execution_count": 6,
   "id": "b38dc356",
   "metadata": {
    "ExecuteTime": {
     "end_time": "2022-11-05T11:02:12.210537Z",
     "start_time": "2022-11-05T11:02:03.785484Z"
    },
    "code_folding": []
   },
   "outputs": [
    {
     "name": "stderr",
     "output_type": "stream",
     "text": [
      "Finding Unique Ethnicities:   0%|                                                                                                                  | 0/59946 [00:00<?, ?it/s]"
     ]
    },
    {
     "ename": "AttributeError",
     "evalue": "'Series' object has no attribute '_is_builtin_func'",
     "output_type": "error",
     "traceback": [
      "\u001b[0;31m---------------------------------------------------------------------------\u001b[0m",
      "\u001b[0;31mAttributeError\u001b[0m                            Traceback (most recent call last)",
      "\u001b[0;32m/tmp/ipykernel_735453/3184808587.py\u001b[0m in \u001b[0;36m<module>\u001b[0;34m\u001b[0m\n\u001b[1;32m      1\u001b[0m \u001b[0mtqdm\u001b[0m\u001b[0;34m.\u001b[0m\u001b[0mpandas\u001b[0m\u001b[0;34m(\u001b[0m\u001b[0mdesc\u001b[0m\u001b[0;34m=\u001b[0m\u001b[0;34m'Finding Unique Ethnicities'\u001b[0m\u001b[0;34m)\u001b[0m\u001b[0;34m\u001b[0m\u001b[0;34m\u001b[0m\u001b[0m\n\u001b[0;32m----> 2\u001b[0;31m unique = ok['ethnicity'].progress_apply(\n\u001b[0m\u001b[1;32m      3\u001b[0m     \u001b[0;32mlambda\u001b[0m \u001b[0mx\u001b[0m\u001b[0;34m:\u001b[0m \u001b[0mpd\u001b[0m\u001b[0;34m.\u001b[0m\u001b[0mSeries\u001b[0m\u001b[0;34m(\u001b[0m\u001b[0mnp\u001b[0m\u001b[0;34m.\u001b[0m\u001b[0mnan\u001b[0m \u001b[0;32mif\u001b[0m \u001b[0mpd\u001b[0m\u001b[0;34m.\u001b[0m\u001b[0misna\u001b[0m\u001b[0;34m(\u001b[0m\u001b[0mx\u001b[0m\u001b[0;34m)\u001b[0m \u001b[0;32melse\u001b[0m \u001b[0;34m[\u001b[0m\u001b[0mxi\u001b[0m\u001b[0;34m.\u001b[0m\u001b[0mstrip\u001b[0m\u001b[0;34m(\u001b[0m\u001b[0;34m)\u001b[0m \u001b[0;32mfor\u001b[0m \u001b[0mxi\u001b[0m \u001b[0;32min\u001b[0m \u001b[0mx\u001b[0m\u001b[0;34m.\u001b[0m\u001b[0msplit\u001b[0m\u001b[0;34m(\u001b[0m\u001b[0;34m','\u001b[0m\u001b[0;34m)\u001b[0m\u001b[0;34m]\u001b[0m\u001b[0;34m)\u001b[0m\u001b[0;34m\u001b[0m\u001b[0;34m\u001b[0m\u001b[0m\n\u001b[1;32m      4\u001b[0m ).unstack().unique()\n\u001b[1;32m      5\u001b[0m \u001b[0munique\u001b[0m \u001b[0;34m=\u001b[0m \u001b[0munique\u001b[0m\u001b[0;34m[\u001b[0m\u001b[0;34m~\u001b[0m\u001b[0mpd\u001b[0m\u001b[0;34m.\u001b[0m\u001b[0misna\u001b[0m\u001b[0;34m(\u001b[0m\u001b[0munique\u001b[0m\u001b[0;34m)\u001b[0m\u001b[0;34m]\u001b[0m\u001b[0;34m\u001b[0m\u001b[0;34m\u001b[0m\u001b[0m\n",
      "\u001b[0;32m~/.pyenv/versions/3.9.4/lib/python3.9/site-packages/tqdm/std.py\u001b[0m in \u001b[0;36minner\u001b[0;34m(df, func, *args, **kwargs)\u001b[0m\n\u001b[1;32m    792\u001b[0m \u001b[0;34m\u001b[0m\u001b[0m\n\u001b[1;32m    793\u001b[0m                 \u001b[0;32mtry\u001b[0m\u001b[0;34m:\u001b[0m\u001b[0;34m\u001b[0m\u001b[0;34m\u001b[0m\u001b[0m\n\u001b[0;32m--> 794\u001b[0;31m                     \u001b[0mfunc\u001b[0m \u001b[0;34m=\u001b[0m \u001b[0mdf\u001b[0m\u001b[0;34m.\u001b[0m\u001b[0m_is_builtin_func\u001b[0m\u001b[0;34m(\u001b[0m\u001b[0mfunc\u001b[0m\u001b[0;34m)\u001b[0m\u001b[0;34m\u001b[0m\u001b[0;34m\u001b[0m\u001b[0m\n\u001b[0m\u001b[1;32m    795\u001b[0m                 \u001b[0;32mexcept\u001b[0m \u001b[0mTypeError\u001b[0m\u001b[0;34m:\u001b[0m\u001b[0;34m\u001b[0m\u001b[0;34m\u001b[0m\u001b[0m\n\u001b[1;32m    796\u001b[0m                     \u001b[0;32mpass\u001b[0m\u001b[0;34m\u001b[0m\u001b[0;34m\u001b[0m\u001b[0m\n",
      "\u001b[0;32m~/.pyenv/versions/3.9.4/lib/python3.9/site-packages/pandas/core/generic.py\u001b[0m in \u001b[0;36m__getattr__\u001b[0;34m(self, name)\u001b[0m\n\u001b[1;32m   5573\u001b[0m         ):\n\u001b[1;32m   5574\u001b[0m             \u001b[0;32mreturn\u001b[0m \u001b[0mself\u001b[0m\u001b[0;34m[\u001b[0m\u001b[0mname\u001b[0m\u001b[0;34m]\u001b[0m\u001b[0;34m\u001b[0m\u001b[0;34m\u001b[0m\u001b[0m\n\u001b[0;32m-> 5575\u001b[0;31m         \u001b[0;32mreturn\u001b[0m \u001b[0mobject\u001b[0m\u001b[0;34m.\u001b[0m\u001b[0m__getattribute__\u001b[0m\u001b[0;34m(\u001b[0m\u001b[0mself\u001b[0m\u001b[0;34m,\u001b[0m \u001b[0mname\u001b[0m\u001b[0;34m)\u001b[0m\u001b[0;34m\u001b[0m\u001b[0;34m\u001b[0m\u001b[0m\n\u001b[0m\u001b[1;32m   5576\u001b[0m \u001b[0;34m\u001b[0m\u001b[0m\n\u001b[1;32m   5577\u001b[0m     \u001b[0;32mdef\u001b[0m \u001b[0m__setattr__\u001b[0m\u001b[0;34m(\u001b[0m\u001b[0mself\u001b[0m\u001b[0;34m,\u001b[0m \u001b[0mname\u001b[0m\u001b[0;34m:\u001b[0m \u001b[0mstr\u001b[0m\u001b[0;34m,\u001b[0m \u001b[0mvalue\u001b[0m\u001b[0;34m)\u001b[0m \u001b[0;34m->\u001b[0m \u001b[0;32mNone\u001b[0m\u001b[0;34m:\u001b[0m\u001b[0;34m\u001b[0m\u001b[0;34m\u001b[0m\u001b[0m\n",
      "\u001b[0;31mAttributeError\u001b[0m: 'Series' object has no attribute '_is_builtin_func'"
     ]
    }
   ],
   "source": [
    "tqdm.pandas(desc='Finding Unique Ethnicities')\n",
    "unique = ok['ethnicity'].progress_apply(\n",
    "    lambda x: pd.Series(np.nan if pd.isna(x) else [xi.strip() for xi in x.split(',')])\n",
    ").unstack().unique()\n",
    "unique = unique[~pd.isna(unique)]\n",
    "\n",
    "tqdm.pandas(desc='Assigning Ethnicities')\n",
    "eths = ok['ethnicity'].progress_apply(lambda x: pd.Series(\n",
    "    np.in1d(unique, [xi.strip() for xi in str(x).split(',')]), \n",
    "    index=[(f'eth_{u.replace(\"/ \", \"\").replace(\" \", \"_\")}') for u in unique]\n",
    "))\n",
    "ok = pd.concat((\n",
    "    ok, eths\n",
    "), axis=1)"
   ]
  },
  {
   "cell_type": "markdown",
   "id": "c9f32e61",
   "metadata": {},
   "source": [
    "The `ok` dataset also contained the self-declared astrological sign of the participant. However, the column `sign` includes the self-declared importance of the sign to the participant. For example: `pisces but it doesn't matter`, `cancer and it's fun to think about`, or `gemini and it matters a lot`. These qualifications were all removed, and a new sign feature was introduced for each astrological sign that is True only for the user's corresponding sign. For example, a user who stated their sign `gemini and it matters a lot` would be true in the `sign_gemini` column and false in all other `sign_*` columns."
   ]
  },
  {
   "cell_type": "code",
   "execution_count": 7,
   "id": "1ccc9230",
   "metadata": {
    "ExecuteTime": {
     "end_time": "2022-11-05T11:02:16.533408Z",
     "start_time": "2022-11-05T11:02:12.211474Z"
    },
    "code_folding": [
     0,
     11,
     15
    ]
   },
   "outputs": [
    {
     "name": "stderr",
     "output_type": "stream",
     "text": [
      "\n",
      "Assigning Astrological Signs:   0%|                                                                                                                | 0/59946 [00:00<?, ?it/s]\u001b[A"
     ]
    },
    {
     "ename": "AttributeError",
     "evalue": "'Series' object has no attribute '_is_builtin_func'",
     "output_type": "error",
     "traceback": [
      "\u001b[0;31m---------------------------------------------------------------------------\u001b[0m",
      "\u001b[0;31mAttributeError\u001b[0m                            Traceback (most recent call last)",
      "\u001b[0;32m/tmp/ipykernel_735453/1592280311.py\u001b[0m in \u001b[0;36m<module>\u001b[0;34m\u001b[0m\n\u001b[1;32m     10\u001b[0m \u001b[0;34m\u001b[0m\u001b[0m\n\u001b[1;32m     11\u001b[0m \u001b[0mtqdm\u001b[0m\u001b[0;34m.\u001b[0m\u001b[0mpandas\u001b[0m\u001b[0;34m(\u001b[0m\u001b[0mdesc\u001b[0m\u001b[0;34m=\u001b[0m\u001b[0;34m'Assigning Astrological Signs'\u001b[0m\u001b[0;34m)\u001b[0m\u001b[0;34m\u001b[0m\u001b[0;34m\u001b[0m\u001b[0m\n\u001b[0;32m---> 12\u001b[0;31m signs = ok['sign'].progress_apply(lambda x: pd.Series(\n\u001b[0m\u001b[1;32m     13\u001b[0m     \u001b[0mnp\u001b[0m\u001b[0;34m.\u001b[0m\u001b[0min1d\u001b[0m\u001b[0;34m(\u001b[0m\u001b[0muniq_signs\u001b[0m\u001b[0;34m,\u001b[0m \u001b[0;34m[\u001b[0m\u001b[0mxi\u001b[0m\u001b[0;34m.\u001b[0m\u001b[0mstrip\u001b[0m\u001b[0;34m(\u001b[0m\u001b[0;34m)\u001b[0m \u001b[0;32mfor\u001b[0m \u001b[0mxi\u001b[0m \u001b[0;32min\u001b[0m \u001b[0mstr\u001b[0m\u001b[0;34m(\u001b[0m\u001b[0mx\u001b[0m\u001b[0;34m)\u001b[0m\u001b[0;34m.\u001b[0m\u001b[0msplit\u001b[0m\u001b[0;34m(\u001b[0m\u001b[0;34m','\u001b[0m\u001b[0;34m)\u001b[0m\u001b[0;34m]\u001b[0m\u001b[0;34m)\u001b[0m\u001b[0;34m,\u001b[0m\u001b[0;34m\u001b[0m\u001b[0;34m\u001b[0m\u001b[0m\n\u001b[1;32m     14\u001b[0m     \u001b[0mindex\u001b[0m\u001b[0;34m=\u001b[0m\u001b[0;34m[\u001b[0m\u001b[0;34m(\u001b[0m\u001b[0;34mf'sign_{u}'\u001b[0m\u001b[0;34m)\u001b[0m \u001b[0;32mfor\u001b[0m \u001b[0mu\u001b[0m \u001b[0;32min\u001b[0m \u001b[0muniq_signs\u001b[0m\u001b[0;34m]\u001b[0m\u001b[0;34m\u001b[0m\u001b[0;34m\u001b[0m\u001b[0m\n",
      "\u001b[0;32m~/.pyenv/versions/3.9.4/lib/python3.9/site-packages/tqdm/std.py\u001b[0m in \u001b[0;36minner\u001b[0;34m(df, func, *args, **kwargs)\u001b[0m\n\u001b[1;32m    792\u001b[0m \u001b[0;34m\u001b[0m\u001b[0m\n\u001b[1;32m    793\u001b[0m                 \u001b[0;32mtry\u001b[0m\u001b[0;34m:\u001b[0m\u001b[0;34m\u001b[0m\u001b[0;34m\u001b[0m\u001b[0m\n\u001b[0;32m--> 794\u001b[0;31m                     \u001b[0mfunc\u001b[0m \u001b[0;34m=\u001b[0m \u001b[0mdf\u001b[0m\u001b[0;34m.\u001b[0m\u001b[0m_is_builtin_func\u001b[0m\u001b[0;34m(\u001b[0m\u001b[0mfunc\u001b[0m\u001b[0;34m)\u001b[0m\u001b[0;34m\u001b[0m\u001b[0;34m\u001b[0m\u001b[0m\n\u001b[0m\u001b[1;32m    795\u001b[0m                 \u001b[0;32mexcept\u001b[0m \u001b[0mTypeError\u001b[0m\u001b[0;34m:\u001b[0m\u001b[0;34m\u001b[0m\u001b[0;34m\u001b[0m\u001b[0m\n\u001b[1;32m    796\u001b[0m                     \u001b[0;32mpass\u001b[0m\u001b[0;34m\u001b[0m\u001b[0;34m\u001b[0m\u001b[0m\n",
      "\u001b[0;32m~/.pyenv/versions/3.9.4/lib/python3.9/site-packages/pandas/core/generic.py\u001b[0m in \u001b[0;36m__getattr__\u001b[0;34m(self, name)\u001b[0m\n\u001b[1;32m   5573\u001b[0m         ):\n\u001b[1;32m   5574\u001b[0m             \u001b[0;32mreturn\u001b[0m \u001b[0mself\u001b[0m\u001b[0;34m[\u001b[0m\u001b[0mname\u001b[0m\u001b[0;34m]\u001b[0m\u001b[0;34m\u001b[0m\u001b[0;34m\u001b[0m\u001b[0m\n\u001b[0;32m-> 5575\u001b[0;31m         \u001b[0;32mreturn\u001b[0m \u001b[0mobject\u001b[0m\u001b[0;34m.\u001b[0m\u001b[0m__getattribute__\u001b[0m\u001b[0;34m(\u001b[0m\u001b[0mself\u001b[0m\u001b[0;34m,\u001b[0m \u001b[0mname\u001b[0m\u001b[0;34m)\u001b[0m\u001b[0;34m\u001b[0m\u001b[0;34m\u001b[0m\u001b[0m\n\u001b[0m\u001b[1;32m   5576\u001b[0m \u001b[0;34m\u001b[0m\u001b[0m\n\u001b[1;32m   5577\u001b[0m     \u001b[0;32mdef\u001b[0m \u001b[0m__setattr__\u001b[0m\u001b[0;34m(\u001b[0m\u001b[0mself\u001b[0m\u001b[0;34m,\u001b[0m \u001b[0mname\u001b[0m\u001b[0;34m:\u001b[0m \u001b[0mstr\u001b[0m\u001b[0;34m,\u001b[0m \u001b[0mvalue\u001b[0m\u001b[0;34m)\u001b[0m \u001b[0;34m->\u001b[0m \u001b[0;32mNone\u001b[0m\u001b[0;34m:\u001b[0m\u001b[0;34m\u001b[0m\u001b[0;34m\u001b[0m\u001b[0m\n",
      "\u001b[0;31mAttributeError\u001b[0m: 'Series' object has no attribute '_is_builtin_func'"
     ]
    }
   ],
   "source": [
    "uniq_signs = ok['sign'].apply(\n",
    "    lambda x: \n",
    "    x if pd.isna(x) else (\n",
    "        x.replace(' and it&rsquo;s fun to think about', '')\n",
    "        .replace(' but it doesn&rsquo;t matter', '')\n",
    "        .replace(' and it matters a lot', '')\n",
    "    )\n",
    ").unique()\n",
    "uniq_signs = uniq_signs[~pd.isna(uniq_signs)]\n",
    "\n",
    "tqdm.pandas(desc='Assigning Astrological Signs')\n",
    "signs = ok['sign'].progress_apply(lambda x: pd.Series(\n",
    "    np.in1d(uniq_signs, [xi.strip() for xi in str(x).split(',')]), \n",
    "    index=[(f'sign_{u}') for u in uniq_signs]\n",
    "))\n",
    "ok = pd.concat((\n",
    "    ok, signs\n",
    "), axis=1)\n"
   ]
  },
  {
   "cell_type": "markdown",
   "id": "a6d08fca",
   "metadata": {},
   "source": [
    "# Methodology\n",
    "\n",
    "Various plotting and statistical methods were employed. Pairwise independant t-tests were used to explain the problem of multiple comparisons. The effect of different colour scales as well as different colour maps were investigated and recommendations given. Different methods of plotting and summarising two-dimensional distributions were analysed and the constraints of each method enumerated. Three common statistical problems were explained visually, and methods for recognising them presented."
   ]
  },
  {
   "cell_type": "markdown",
   "id": "1c7ef027",
   "metadata": {},
   "source": [
    "# Results\n",
    "\n",
    "This section first goes through the problems with exponential data and numerical scales in [Numerical Scales and Exponential Data](#Numerical-Scales-and-Exponential-Data). Then colour is addressed, first in terms of how to use semantic colour scales ([Colour Scales](#Colour-Scales)) and then how to use appropriate colour maps for the application ([Colour Maps](#Colour-Maps)).\n",
    "\n",
    "Different methods of visualising two dimensional data are covered in [Using the wrong visualisation](#Using-the-wrong-visualisation).\n",
    "\n",
    "Statistical paradoxes are covered, specifically [The problem of multiple comparisons](#The-problem-of-multiple-comparisons), [Simpson's paradox](#Simpson's-paradox), and finally [Berkson's Paradox](#Berkson's-Paradox).\n",
    "\n"
   ]
  },
  {
   "cell_type": "markdown",
   "id": "7fcee5c1",
   "metadata": {},
   "source": [
    "## Numerical Scales and Exponential Data\n",
    "\n",
    "Misleading things can happen when you assume your data is roughly clustered around some central value when it is not.\n",
    "\n",
    "Exponential data is surprisingly common, but knowledge of how to treat that data is less so. As an example, let's look at some data about the number of likes and comments on different TikToks:"
   ]
  },
  {
   "cell_type": "code",
   "execution_count": 8,
   "id": "edaf590b",
   "metadata": {
    "ExecuteTime": {
     "end_time": "2022-11-05T11:02:16.684953Z",
     "start_time": "2022-11-05T11:02:16.535624Z"
    },
    "code_folding": [
     0
    ]
   },
   "outputs": [
    {
     "name": "stderr",
     "output_type": "stream",
     "text": [
      "Finding Unique Ethnicities:   0%|                                                                                                                  | 0/59946 [00:42<?, ?it/s]\n"
     ]
    },
    {
     "data": {
      "image/png": "[encoded data removed]",
      "text/plain": [
       "<Figure size 432x288 with 2 Axes>"
      ]
     },
     "metadata": {
      "needs_background": "light"
     },
     "output_type": "display_data"
    }
   ],
   "source": [
    "# Plot of comments and likes for TikToks\n",
    "data = tt[(tt.comments > 0) & (tt.likes > 0)]\n",
    "sns.histplot(\n",
    "    data=data[['comments', 'likes']],\n",
    "    x='comments',\n",
    "    y='likes',\n",
    "    bins=(30, 30),\n",
    "    cbar=True,\n",
    ")\n",
    "plt.title('Number of likes and comments on different TikToks')\n",
    "plt.tight_layout()\n",
    "plt.show()"
   ]
  },
  {
   "cell_type": "markdown",
   "id": "8db9823a",
   "metadata": {},
   "source": [
    "We can see that there's loads of datapoints with nearly-zero comments and nearly-zero likes.\n",
    "\n",
    "One strategy might be to decide a cut-off point, so we'd only look at TikToks with fewer than 1 million (0.1e7) likes and 10 000 comments so that we can \"zoom in\" on where most of the TikToks seem to be:"
   ]
  },
  {
   "cell_type": "code",
   "execution_count": 9,
   "id": "916d031e",
   "metadata": {
    "ExecuteTime": {
     "end_time": "2022-11-05T11:02:16.798055Z",
     "start_time": "2022-11-05T11:02:16.687391Z"
    },
    "code_folding": [
     0
    ]
   },
   "outputs": [
    {
     "data": {
      "image/png": "[encoded data removed]",
      "text/plain": [
       "<Figure size 432x288 with 1 Axes>"
      ]
     },
     "metadata": {
      "needs_background": "light"
     },
     "output_type": "display_data"
    }
   ],
   "source": [
    "# Plot of comments and likes for TikToks with fewer than 10k comments and fewer than 1M likes\n",
    "data = tt[(tt.comments > 0) & (tt.likes > 0) & (tt.comments < 10_000) & (tt.likes < 0.1e7)]\n",
    "sns.histplot(\n",
    "    data=data[['comments', 'likes']],\n",
    "    x='comments',\n",
    "    y='likes',\n",
    "    bins=(30, 30)\n",
    ")\n",
    "plt.title('Number of likes and comments on different TikToks\\nLikes < 1e6 and Comments < 10 000')\n",
    "plt.tight_layout()\n",
    "plt.show()"
   ]
  },
  {
   "cell_type": "markdown",
   "id": "ba98e626",
   "metadata": {},
   "source": [
    "But we've got the same problem! There's loads of TikToks with near-zero likes and near-zero comments, so we can't really tell what's going on with the distribution. This is because (to phrase it a bit loosely) exponential distributions look the same at any zoom level. Formally this is called [the memorylessness property](https://en.wikipedia.org/wiki/Exponential_distribution#Memorylessness) of the exponential distribution.\n",
    "\n",
    "The proper solution would be to transform the data before we plot it, but here's a widget that let's you choose the zoom level so you can see I'm not lying to you:"
   ]
  },
  {
   "cell_type": "code",
   "execution_count": 10,
   "id": "cd7716c3",
   "metadata": {
    "ExecuteTime": {
     "end_time": "2022-11-05T11:02:16.925178Z",
     "start_time": "2022-11-05T11:02:16.804653Z"
    },
    "code_folding": [
     0
    ]
   },
   "outputs": [
    {
     "data": {
      "application/vnd.jupyter.widget-view+json": {
       "model_id": "b8cb4859054548fa81d99e6fd7732485",
       "version_major": 2,
       "version_minor": 0
      },
      "text/plain": [
       "interactive(children=(FloatSlider(value=1.0, description='Upper percentile:', max=1.0, min=0.001, step=0.025),…"
      ]
     },
     "metadata": {},
     "output_type": "display_data"
    }
   ],
   "source": [
    "# Interactive plot where the user can choose the maximum quantile of the data\n",
    "@interact(quant=widgets.FloatSlider(\n",
    "    value=1.0,\n",
    "    min=0.001,\n",
    "    max=1.0,\n",
    "    step=0.025,\n",
    "    description='Upper percentile:',\n",
    "))\n",
    "def plt_tiktoks(quant):\n",
    "    comment_max = int(np.round(tt.comments.quantile(quant)))\n",
    "    likes_max = int(np.round(tt.likes.quantile(quant)))\n",
    "    # Plot of comments and likes for TikToks with fewer than 10k comments and fewer than 1M likes\n",
    "    data = tt[\n",
    "        (tt.comments > 0) & (tt.likes > 0) & \n",
    "        (tt.comments < comment_max) & (tt.likes < likes_max)\n",
    "    ]\n",
    "    sns.histplot(\n",
    "        data=data[['comments', 'likes']],\n",
    "        x='comments',\n",
    "        y='likes',\n",
    "        bins=(30, 30)\n",
    "    )\n",
    "    plt.title(f'Number of likes and comments on different TikToks\\nLikes < {likes_max} and Comments < {comment_max}')\n",
    "    plt.show()"
   ]
  },
  {
   "cell_type": "markdown",
   "id": "14c471b9",
   "metadata": {},
   "source": [
    "Play around with the slider to choose the maximum percentile of the data. For example, setting the slider to 0.5 will only plot TikToks where the number of likes is below the median number of likes and the number of comments is also below the median number of comments.\n",
    "\n",
    "You'll find that the heatmap looks roughly the same regardless of where you put the slider, right up until the slider goes below 0.1. At this point you can see that there are loads of TikToks with about 8000 likes and 35 comments, but this analysis doesn't really mean anything since you had to discarded 90% of your data in order to see this 'pattern'.\n",
    "\n",
    "Now lets see the true solution: the log-scale. If we plot the logarithm of comments against the logarithm of likes, we can see a the pattern in the data:"
   ]
  },
  {
   "cell_type": "code",
   "execution_count": null,
   "id": "1782fda1",
   "metadata": {
    "ExecuteTime": {
     "end_time": "2022-11-05T11:02:17.410577Z",
     "start_time": "2022-11-05T11:02:16.926269Z"
    },
    "code_folding": [
     0
    ]
   },
   "outputs": [],
   "source": [
    "# Plot logarithmic vs linear scales\n",
    "_fig, axs = plt.subplots(1, 2, figsize=(8, 4))\n",
    "\n",
    "data = tt[(tt.comments > 0) & (tt.likes > 0)]\n",
    "sns.histplot(\n",
    "    data=data[['comments', 'likes']],\n",
    "    x='comments',\n",
    "    y='likes',\n",
    "    bins=(50, 50),\n",
    "    ax=axs[0],\n",
    ")\n",
    "axs[0].set_title(f'X linear, Y linear')\n",
    "axs[0].set_ylabel(f'Likes (linear)')\n",
    "axs[0].set_xlabel(f'Comments (linear)')\n",
    "\n",
    "sns.histplot(\n",
    "    data=data[['comments', 'likes']],\n",
    "    x='comments',\n",
    "    y='likes',\n",
    "    bins=(50, 50),\n",
    "    log_scale=(True, True),\n",
    "    ax=axs[1],\n",
    ")\n",
    "axs[1].set_title(f'X logged, Y logged')\n",
    "axs[1].set_ylabel(f'Likes (logged)')\n",
    "axs[1].set_xlabel(f'Comments (logged)')\n",
    "\n",
    "plt.suptitle('Linear vs Logarithmic scales')\n",
    "plt.tight_layout()"
   ]
  },
  {
   "cell_type": "markdown",
   "id": "28335153",
   "metadata": {},
   "source": [
    "Clearly there's a relationship between comments and likes. We can see that TikToks with more likes generally get more comments, although its important to note that because we're using a log-log scale, it is more accurate to say that TikToks with 10 times more likes generally have 10 times more comments.\n",
    "\n",
    "We can also see that most TikToks seem to have between $10^4$ and $10^7$ likes, and between $10^2$ and $10^4$ comments. This is impossible to tell from the linear graph."
   ]
  },
  {
   "cell_type": "markdown",
   "id": "23387d64",
   "metadata": {},
   "source": [
    "## Colour Scales\n",
    "\n",
    "A trickier to spot scaling problem would be with _colour_ scales. For an example, lets look at a dataset of online dating profiles from the mobile app OkCupid. Specifically, let's look at  the correlations between age, height, income, sex, and self-declared ethnicity:"
   ]
  },
  {
   "cell_type": "code",
   "execution_count": null,
   "id": "1c11dda1",
   "metadata": {
    "ExecuteTime": {
     "end_time": "2022-11-05T11:02:17.554709Z",
     "start_time": "2022-11-05T11:02:17.411813Z"
    },
    "code_folding": [
     0,
     7
    ]
   },
   "outputs": [],
   "source": [
    "columns = [\n",
    "    'age', 'height', 'income', 'is_male', 'eth_asian', 'eth_white',\n",
    "    'eth_hispanic_latin', 'eth_pacific_islander', 'eth_black',\n",
    "    'eth_middle_eastern', 'eth_native_american', 'eth_indian',\n",
    "    'eth_other',\n",
    "]\n",
    "formatted_columns = [c.replace('eth', '').replace('_', ' ').title() for c in columns]\n",
    "sns.heatmap(\n",
    "    ok[columns].corr(),\n",
    "    xticklabels=formatted_columns,\n",
    "    yticklabels=formatted_columns,\n",
    ")\n",
    "plt.title('(Incorrect) Heatmap of Correlations')\n",
    "plt.show()"
   ]
  },
  {
   "cell_type": "markdown",
   "id": "349dd0d3",
   "metadata": {},
   "source": [
    "By definition, correlations are values between -1 and 1, but the default colour scale of this heatmap is from about -0.4 to 1.0 because the smallest correlation value is -0.4. This is problematic because makes the negative correlation between `white` and `asian` seem as negative as the correlation between `is_male` and `height` is positive.\n",
    "\n",
    "\n",
    "The naïve solution would be to explicitly specify the minimum and maximum values of the heatmap using Seaborn's `vmin` and `vmax` parameters:"
   ]
  },
  {
   "cell_type": "code",
   "execution_count": null,
   "id": "f3ffba48",
   "metadata": {
    "ExecuteTime": {
     "end_time": "2022-11-05T11:02:17.678943Z",
     "start_time": "2022-11-05T11:02:17.555671Z"
    },
    "code_folding": [
     0
    ]
   },
   "outputs": [],
   "source": [
    "sns.heatmap(\n",
    "    ok[columns].corr(),\n",
    "    xticklabels=formatted_columns,\n",
    "    yticklabels=formatted_columns,\n",
    "    vmin=-1,                # <--- Let's explicitly set the min\n",
    "    vmax=1                  # <--- and max values\n",
    ")\n",
    "plt.title('(Better) Heatmap of Correlations')\n",
    "plt.show()"
   ]
  },
  {
   "cell_type": "markdown",
   "id": "4feccb1f",
   "metadata": {},
   "source": [
    "Now we've fixed our scales, so the correlation between `white` and `asian` no longer seems as negative as the correlation between `is_male` and `height` is positive. But this still isn't great, because it's important to know if a correlation is positive or negative. We've fixed the _range_ of the plot, but the colours don't have semantic value. Put another way:\n",
    "\n",
    "- Does the colour scale cover the entire range of the data? ✅\n",
    "- Do the colours in the colour scale map to meaningful values? ❌\n",
    "\n",
    "Seaborn makes fixing the second point really easy with the `center` parameter. Specifying `center=0` will cause Seaborn to use a _diverging_ colourmap, which is specifically designed to represent data which have some notion of a \"positive\" and \"negative\". As an added bonus, since we're specifying the center of the data we no longer need to specify the minimum and maximum values, so we can omit `vmin` and `vmax`:"
   ]
  },
  {
   "cell_type": "code",
   "execution_count": null,
   "id": "a56f6252",
   "metadata": {
    "ExecuteTime": {
     "end_time": "2022-11-05T11:02:17.800328Z",
     "start_time": "2022-11-05T11:02:17.680001Z"
    },
    "code_folding": [
     0
    ]
   },
   "outputs": [],
   "source": [
    "sns.heatmap(\n",
    "    ok[columns].corr(),\n",
    "    xticklabels=formatted_columns,\n",
    "    yticklabels=formatted_columns,\n",
    "    center=0,\n",
    "#     vmin=-1,    # No longer needed because of center=0\n",
    "#     vmax=1      # No longer needed because of center=0\n",
    ")\n",
    "plt.title('(Best) Heatmap of Correlations')\n",
    "plt.show()"
   ]
  },
  {
   "cell_type": "markdown",
   "id": "75adcf05",
   "metadata": {},
   "source": [
    "And now it is very obvious that the correlation between `white` and `asian` is negative while the correlation between `is_male` and `height` is positive. Also the negative correlations between identifying as `white` and identifying as `hispanic/latin`, `pacific islander`, `black`, `indian`, and `other` are more obvious."
   ]
  },
  {
   "cell_type": "markdown",
   "id": "8945007b",
   "metadata": {},
   "source": [
    "## Colour Maps\n",
    "\n",
    "The choice of colour map is also important. Most plotting libraries provide some sort of 'rainbow' colour map. Matplotlib has `gist_rainbow`:"
   ]
  },
  {
   "cell_type": "code",
   "execution_count": 11,
   "id": "6bb612ee",
   "metadata": {
    "ExecuteTime": {
     "end_time": "2022-11-05T11:02:17.807979Z",
     "start_time": "2022-11-05T11:02:17.801207Z"
    }
   },
   "outputs": [
    {
     "ename": "AttributeError",
     "evalue": "module 'matplotlib' has no attribute 'colormaps'",
     "output_type": "error",
     "traceback": [
      "\u001b[0;31m---------------------------------------------------------------------------\u001b[0m",
      "\u001b[0;31mAttributeError\u001b[0m                            Traceback (most recent call last)",
      "\u001b[0;32m/tmp/ipykernel_735453/4066933357.py\u001b[0m in \u001b[0;36m<module>\u001b[0;34m\u001b[0m\n\u001b[0;32m----> 1\u001b[0;31m \u001b[0mmatplotlib\u001b[0m\u001b[0;34m.\u001b[0m\u001b[0mcolormaps\u001b[0m\u001b[0;34m[\u001b[0m\u001b[0;34m'gist_rainbow'\u001b[0m\u001b[0;34m]\u001b[0m\u001b[0;34m\u001b[0m\u001b[0;34m\u001b[0m\u001b[0m\n\u001b[0m",
      "\u001b[0;31mAttributeError\u001b[0m: module 'matplotlib' has no attribute 'colormaps'"
     ]
    }
   ],
   "source": [
    "matplotlib.colormaps['gist_rainbow']"
   ]
  },
  {
   "cell_type": "markdown",
   "id": "afc81446",
   "metadata": {},
   "source": [
    "And at first glance `gist_rainbow` doesn't seem too bad, since the point of a colour map is to distinguish between different values, so surely the colour map with a large number of colours in it should be the best? And `gist_rainbow` seems to have a lot of different colours.\n",
    "\n",
    "The idea that you want lots of colours is (mostly) good, but `gist_rainbow` fails because it is not _perceptually uniform_. This will be easiest to explain by comparing two rainbow-ish colourmaps: `gist_rainbow` and `turbo`:"
   ]
  },
  {
   "cell_type": "code",
   "execution_count": 13,
   "id": "7ccba11c",
   "metadata": {
    "ExecuteTime": {
     "end_time": "2022-11-05T11:02:17.820217Z",
     "start_time": "2022-11-05T11:02:17.808862Z"
    }
   },
   "outputs": [
    {
     "ename": "AttributeError",
     "evalue": "module 'matplotlib' has no attribute 'colormaps'",
     "output_type": "error",
     "traceback": [
      "\u001b[0;31m---------------------------------------------------------------------------\u001b[0m",
      "\u001b[0;31mAttributeError\u001b[0m                            Traceback (most recent call last)",
      "\u001b[0;32m/tmp/ipykernel_735453/154354192.py\u001b[0m in \u001b[0;36m<module>\u001b[0;34m\u001b[0m\n\u001b[0;32m----> 1\u001b[0;31m \u001b[0mdisplay\u001b[0m\u001b[0;34m(\u001b[0m\u001b[0mmatplotlib\u001b[0m\u001b[0;34m.\u001b[0m\u001b[0mcolormaps\u001b[0m\u001b[0;34m[\u001b[0m\u001b[0;34m'gist_rainbow'\u001b[0m\u001b[0;34m]\u001b[0m\u001b[0;34m)\u001b[0m\u001b[0;34m\u001b[0m\u001b[0;34m\u001b[0m\u001b[0m\n\u001b[0m\u001b[1;32m      2\u001b[0m \u001b[0mdisplay\u001b[0m\u001b[0;34m(\u001b[0m\u001b[0mmatplotlib\u001b[0m\u001b[0;34m.\u001b[0m\u001b[0mcolormaps\u001b[0m\u001b[0;34m[\u001b[0m\u001b[0;34m'turbo'\u001b[0m\u001b[0;34m]\u001b[0m\u001b[0;34m)\u001b[0m\u001b[0;34m\u001b[0m\u001b[0;34m\u001b[0m\u001b[0m\n",
      "\u001b[0;31mAttributeError\u001b[0m: module 'matplotlib' has no attribute 'colormaps'"
     ]
    }
   ],
   "source": [
    "display(matplotlib.colormaps['gist_rainbow'])\n",
    "display(matplotlib.colormaps['turbo'])"
   ]
  },
  {
   "cell_type": "markdown",
   "id": "793c6717",
   "metadata": {},
   "source": [
    "Look carefully at the light blue regions of `gist_rainbow` and `turbo`. On `gist_rainbow`, you can kind of see a vertical band of light blue, which quickly goes either to green or dark blue. But on `turbo`, there iesn't really a single band of light blue. It smoothly transitions from a dark blue to a light blue to a green. `turbo` is perceptually uniform because it the perceptual difference between two adjacent colours is uniform.\n",
    "\n",
    "This is a bit easier to see if we look at discrete chunks of the colour maps side-by-side. Below is a widget that shows just a small portion of the two colour maps. You can move higher and lower in the colour space by moving the `Start` slider:"
   ]
  },
  {
   "cell_type": "code",
   "execution_count": null,
   "id": "ba2bfe0b",
   "metadata": {
    "ExecuteTime": {
     "end_time": "2022-11-05T11:02:17.879363Z",
     "start_time": "2022-11-05T11:02:17.821272Z"
    },
    "code_folding": [
     0,
     7
    ]
   },
   "outputs": [],
   "source": [
    "# Interactive comparison between the `gist_rainbow` colour map and the `turbo` colour map\n",
    "@interact(start=widgets.FloatSlider(\n",
    "    value=0.25,\n",
    "    min=0.0,\n",
    "    max=1.0,\n",
    "    step=0.05,\n",
    "    description='Start:',\n",
    "))\n",
    "def plt_cmaps(start):\n",
    "    _fig, axs = plt.subplots(2, 1, figsize=(8, 3))\n",
    "\n",
    "    cmaps = ['gist_rainbow', 'turbo']\n",
    "\n",
    "    for ax, cmap in zip(axs, cmaps):\n",
    "        vals = np.round(np.clip(np.linspace(0.0, 0.3, 12) + start, 0.0, 1.0), 2)\n",
    "        \n",
    "        ax.imshow([vals], cmap=cmap, vmin=0, vmax=1)\n",
    "        ax.axis('off')\n",
    "        ax.set_title(f'{cmap}')\n",
    "        for i, val in enumerate(vals):\n",
    "\n",
    "            ax.text(\n",
    "                i/len(vals)+0.04, 0.5, f'{val}',\n",
    "                horizontalalignment='center',\n",
    "                verticalalignment='center', \n",
    "                transform=ax.transAxes,\n",
    "            )\n",
    "    plt.tight_layout()"
   ]
  },
  {
   "cell_type": "markdown",
   "id": "50ce3862",
   "metadata": {},
   "source": [
    "The importand thing to note here is how `gist_rainbow` has large regions where neighbouring blocks of colour are basically identical. Move the `Start` slider to 0.25 and try to tell the difference between the `gist_rainbow` blocks labelled 0.36, 0.39, 0.41, and 0.44. They're basically identical, but the same blocks in the `turbo` colour map are easily distinguished.\n",
    "\n",
    "What's more, *any* combination of blocks under the `turbo` colour map is easy to distinguish as any other combination of blocks. That's what makes `turbo` perceptually uniform.\n",
    "\n",
    "Here's a plot showing of some of the colour maps in matplotlib using a heatmap of UFO sightings in North America as the dataset. Note how easily `turbo` makes it to see areas with fewer UFOs or areas with more UFOs compared to `gist_rainbow`. `viridis` and `inferno` also do fairly well, since they both map large values to bright yellows which make them stand out against the low values which get mapped to darker blacks or purples."
   ]
  },
  {
   "cell_type": "code",
   "execution_count": null,
   "id": "78670cee",
   "metadata": {
    "ExecuteTime": {
     "end_time": "2022-11-05T11:02:18.416017Z",
     "start_time": "2022-11-05T11:02:17.880438Z"
    },
    "code_folding": [
     0
    ]
   },
   "outputs": [],
   "source": [
    "# 6 heatmaps of UFO sightings in North America\n",
    "_fig, axs = plt.subplots(2, 3, figsize=(3*4, 2*4))\n",
    "cmaps = ['gist_rainbow', 'cubehelix', 'turbo', 'rainbow', 'inferno', 'viridis']\n",
    "for cmap, ax in zip(cmaps, axs.flatten()):\n",
    "    sns.histplot(\n",
    "        data=ufo,\n",
    "        y='latitude',\n",
    "        x='longitude',\n",
    "        bins=(40,40),\n",
    "        cmap=cmap,\n",
    "        cbar=True,\n",
    "        ax=ax\n",
    "    )\n",
    "    ax.axis('off')\n",
    "    ax.set_title(f'{cmap}')\n",
    "plt.suptitle('UFO Sightings in North America under different colour maps')\n",
    "plt.tight_layout()\n"
   ]
  },
  {
   "cell_type": "markdown",
   "id": "7121a3c1",
   "metadata": {},
   "source": [
    "## Using the wrong visualisation\n",
    "\n",
    "Sometimes the problem is using the incorrect type of plot for a particular task, or using a type of plot which isn't wrong, but isn't the best either.\n",
    "\n",
    "Most infamous of these is the pie chart. Despised by designers and loved by business majors with a point to obscure, this type of plot is generally not reccomended as the human eye has a tricky time differentiating between angles.\n",
    "\n",
    "For example, look at the pie chart below, showing the self-reported body types"
   ]
  },
  {
   "cell_type": "code",
   "execution_count": null,
   "id": "156fe5ba",
   "metadata": {
    "ExecuteTime": {
     "end_time": "2022-11-05T11:02:18.474279Z",
     "start_time": "2022-11-05T11:02:18.417213Z"
    },
    "code_folding": [
     0
    ]
   },
   "outputs": [],
   "source": [
    "plt.pie(\n",
    "    ok.body_type.value_counts().sort_values(),\n",
    "    labels=ok.body_type.value_counts().sort_values().index,\n",
    ")\n",
    "plt.title('Self-reported body type of OkCupid dating profiles')\n",
    "plt.show()"
   ]
  },
  {
   "cell_type": "markdown",
   "id": "46501c6f",
   "metadata": {},
   "source": [
    "Immediately there's a problem in that you can't see all the labels clearly. The labels `rather not say`, `used up`, `jacked`, and `overweight` are all covering each other. But there's a more serious issue: can you easily judge if there are more `thin` body types or more `curvy` body types? or how many body types were `althetic` vs `fit`?\n",
    "\n",
    "The human brain just isn't great at telling the difference between angles. And since a pie chart assigns angles to groups, the human brain just isn't great at telling the difference between slices in a pie chart.\n",
    "\n",
    "Let's compare the pie chart to a bar chart:"
   ]
  },
  {
   "cell_type": "code",
   "execution_count": null,
   "id": "232d7cef",
   "metadata": {
    "ExecuteTime": {
     "end_time": "2022-11-05T11:02:18.796460Z",
     "start_time": "2022-11-05T11:02:18.475700Z"
    },
    "code_folding": [
     0
    ]
   },
   "outputs": [],
   "source": [
    "# Comparison of pie charts vs bar charts\n",
    "_fig, axs = plt.subplots(1, 2, figsize=(10,5))\n",
    "\n",
    "axs[0].pie(\n",
    "    ok.body_type.value_counts().sort_values(),\n",
    "    labels=ok.body_type.value_counts().sort_values().index,\n",
    ")\n",
    "axs[0].set_title('Pie Chart')\n",
    "\n",
    "sns.histplot(\n",
    "    data=ok.sort_values('body_type'),\n",
    "    y='body_type',\n",
    "    hue='body_type',\n",
    "    palette='tab10',\n",
    "    hue_order=ok.body_type.value_counts().sort_values().index,\n",
    "    legend=False,\n",
    ")\n",
    "axs[1].set_title('Bar Chart')\n",
    "plt.suptitle('Self-reported body type of OkCupid dating profiles')\n",
    "\n",
    "plt.tight_layout()"
   ]
  },
  {
   "cell_type": "markdown",
   "id": "93545b99",
   "metadata": {},
   "source": [
    "The bar chart makes it trivial to tell that more people thought they were `fit` than thought they were `athletic`, and to tell that there are more people who report themselves as `thin` vs `curvy`.\n",
    "\n",
    "Note how similar the slices for `curvy` and for `a little extra` look on the pie chart, but how different they look on the bar chart."
   ]
  },
  {
   "cell_type": "markdown",
   "id": "54e8f58b",
   "metadata": {},
   "source": [
    "Another example would be the challenge of plotting a set of measurements from two variables. The simplest version of this would be a 2D histogram. For example, let's look at the latitude and longitude of Chipotle restaurants:"
   ]
  },
  {
   "cell_type": "code",
   "execution_count": null,
   "id": "cbae15a0",
   "metadata": {
    "ExecuteTime": {
     "end_time": "2022-11-05T11:02:19.876353Z",
     "start_time": "2022-11-05T11:02:18.797222Z"
    },
    "code_folding": [
     0
    ]
   },
   "outputs": [],
   "source": [
    "# Comparison of plotting 2D data\n",
    "_fig, axs = plt.subplots(2, 3, figsize=(9, 6))\n",
    "\n",
    "sns.scatterplot(\n",
    "    data=chip,\n",
    "    y='latitude',\n",
    "    x='longitude',\n",
    "    ax=axs[0, 0],\n",
    ")\n",
    "sns.scatterplot(\n",
    "    data=chip,\n",
    "    y='latitude',\n",
    "    x='longitude',\n",
    "    s=1,\n",
    "    ax=axs[0, 1]\n",
    ")\n",
    "sns.scatterplot(\n",
    "    data=chip,\n",
    "    y='latitude',\n",
    "    x='longitude',\n",
    "    alpha=0.1,\n",
    "    ax=axs[0, 2]\n",
    ")\n",
    "sns.histplot(\n",
    "    data=chip,\n",
    "    y='latitude',\n",
    "    x='longitude',\n",
    "    bins=(30, 30),\n",
    "    ax=axs[1, 0]\n",
    ")\n",
    "sns.kdeplot(\n",
    "    data=chip,\n",
    "    y='latitude',\n",
    "    x='longitude',\n",
    "    ax=axs[1, 1]\n",
    ")\n",
    "sns.kdeplot(\n",
    "    data=chip,\n",
    "    y='latitude',\n",
    "    x='longitude',\n",
    "    ax=axs[1, 2],\n",
    "    fill=True,\n",
    "    levels=10,\n",
    ")\n",
    "\n",
    "axs[0, 0].set_title('(1) Regular Scatterplot')\n",
    "axs[0, 1].set_title('(2) Scatterplot: Smaller Points')\n",
    "axs[0, 2].set_title('(3) Scatterplot: Transparent Points ')\n",
    "axs[1, 0].set_title('(4) Heatmap')\n",
    "axs[1, 1].set_title('(5) Kernel Density Estimate:\\nContours')\n",
    "axs[1, 2].set_title('(6) Kernel Density Estimate:\\nContinuous')\n",
    "\n",
    "axs[0, 0].axis('off')\n",
    "axs[0, 1].axis('off')\n",
    "axs[0, 2].axis('off')\n",
    "axs[1, 0].axis('off')\n",
    "axs[1, 1].axis('off')\n",
    "axs[1, 2].axis('off')\n",
    "\n",
    "plt.suptitle('Different 2D density visualisations\\n(Chipotle locations in North America)')\n",
    "plt.tight_layout()\n",
    "plt.show()"
   ]
  },
  {
   "cell_type": "markdown",
   "id": "fbd281b4",
   "metadata": {},
   "source": [
    "The regular scatterplot (1) does alright, but because the default point size is quite big, some points end up covering other points. We can solve this by either reducing the point size (2) or by making the points transparent (3). Transparent points tend to under-emphasize outlier observations and struggle when you've got small regions with many more points than other regions. Smaller point sizes have similar issues to transparent points but can give more precise distributions. \n",
    "\n",
    "Both smaller point sizes and transparent points fail to scale well if you need to plot 10 million points instead of 10 thousand. Heatmaps (4) and kernel density estimates (5,6) work well for these tasks, with a heatmap (AKA 2D histogram) nicely summarizing the data while still allowing the reader to see important areas. Kernel Density Estimates have a tendency to over-generalise which may or may not be desirable."
   ]
  },
  {
   "cell_type": "markdown",
   "id": "8bc9929e",
   "metadata": {},
   "source": [
    "However, histograms and KDE plots both have a parameter that changes the scale of the generalisation. For histograms, more bins mean a finer distribution that fails to generalise, and for KDE plot a smaller bin-width adjustment parameter does the same thing.\n",
    "\n",
    "Play around with the slider below to see the effect that different bin sizes or bin widths have on the histogram and KDE plot. How close can you get the distributions to looking like the North American continent without having loads of white spaces in between the observations?"
   ]
  },
  {
   "cell_type": "code",
   "execution_count": null,
   "id": "c0fafb56",
   "metadata": {
    "ExecuteTime": {
     "end_time": "2022-11-05T11:02:20.429276Z",
     "start_time": "2022-11-05T11:02:19.877485Z"
    },
    "code_folding": [
     0
    ]
   },
   "outputs": [],
   "source": [
    "# Comparison of KDE and 2D histograms at different scales\n",
    "@interact(nbins=widgets.IntSlider(\n",
    "    value=5,\n",
    "    min=1,\n",
    "    max=100,\n",
    "    step=1,\n",
    "    description='Bins:',\n",
    "))\n",
    "def plt_chipotle(nbins):\n",
    "    nbins = max(1, nbins)\n",
    "    fig, axs = plt.subplots(1, 2, figsize=(10,5))\n",
    "    sns.histplot(\n",
    "        data=chip,\n",
    "        y='latitude',\n",
    "        x='longitude',\n",
    "        bins=(nbins, nbins),\n",
    "        ax=axs[0]\n",
    "    )\n",
    "    axs[0].set_title(f'2D Histogram\\nnum bins=({nbins},{nbins})')\n",
    "    \n",
    "    sns.kdeplot(\n",
    "        data=chip,\n",
    "        y='latitude',\n",
    "        x='longitude',\n",
    "        fill=True,\n",
    "        levels=10,\n",
    "        ax=axs[1],\n",
    "        bw_adjust=1/nbins*10\n",
    "    )\n",
    "    axs[1].set_title(f'2D KDE\\nbin-width adjust={np.round(1/nbins*10, 2)}')\n",
    "    axs[0].axis('off')\n",
    "    axs[1].axis('off')\n",
    "    plt.suptitle('Chipotle locations in the US')\n",
    "    plt.tight_layout()\n",
    "    plt.show()"
   ]
  },
  {
   "cell_type": "markdown",
   "id": "cb73b42c",
   "metadata": {},
   "source": [
    "## Statistical Paradoxes\n",
    "\n",
    "Now we move on from visual problems and onto the damnest of lies: statistics."
   ]
  },
  {
   "cell_type": "markdown",
   "id": "a3bf6814",
   "metadata": {
    "ExecuteTime": {
     "end_time": "2022-11-04T17:49:56.487763Z",
     "start_time": "2022-11-04T17:49:56.481546Z"
    }
   },
   "source": [
    "### The problem of multiple comparisons\n",
    "\n",
    "Lets say you group people by their diet: vegetarians and \"no preference\", and you want to see which group is taller. You'd do a t-test for the difference between their means, with $H_0$ being that the means are equal and $H_1$ being that the means are not equal. Let's use a significance threshold of 0.05:"
   ]
  },
  {
   "cell_type": "code",
   "execution_count": null,
   "id": "a1bb81fd",
   "metadata": {
    "ExecuteTime": {
     "end_time": "2022-11-05T11:02:20.438718Z",
     "start_time": "2022-11-05T11:02:20.430249Z"
    }
   },
   "outputs": [],
   "source": [
    "# Get all diets\n",
    "diets = ok.diet.unique()\n",
    "# And remove the nan diets\n",
    "diets = diets[~pd.isna(diets)]\n",
    "# Set the significance threshold\n",
    "sig_thresh = 0.04\n",
    "\n",
    "# Then do a t-test for the difference between the means\n",
    "s1 = ok.loc[ok.diet == 'vegetarian', 'age']\n",
    "s2 = ok.loc[ok.diet == 'anything', 'age']\n",
    "p_value = ttest_ind(s1, s2)[1]\n",
    "\n",
    "equal = p_value <= sig_thresh\n",
    "print(f\"Vegetarians *are{'*' if equal else ' not*'} the same age as people who eat anything (p={np.round(p_value, 4)})\")"
   ]
  },
  {
   "cell_type": "markdown",
   "id": "caad951d",
   "metadata": {},
   "source": [
    "But what if you didn't just care about vegetarians against the anything-eaters? If you wanted to see if *any* diet was younger or older than *any* other diet, then you might naïvely think you could just do every comparison and see if any comparison was significant:"
   ]
  },
  {
   "cell_type": "code",
   "execution_count": null,
   "id": "111e1cb7",
   "metadata": {
    "ExecuteTime": {
     "end_time": "2022-11-05T11:02:21.662277Z",
     "start_time": "2022-11-05T11:02:20.439709Z"
    },
    "code_folding": [
     0
    ]
   },
   "outputs": [],
   "source": [
    "# multiple comparisons\n",
    "diets = ok.diet.unique()\n",
    "diets = diets[~pd.isna(diets)]\n",
    "\n",
    "p_values = np.zeros((len(diets), len(diets)))\n",
    "\n",
    "for i, d1 in enumerate(diets):\n",
    "    for j, d2 in enumerate(diets):\n",
    "        s1 = ok.loc[ok.diet == d1, 'age']\n",
    "        s2 = ok.loc[ok.diet == d2, 'age']\n",
    "        p_values[i, j] = ttest_ind(s1, s2)[1]\n",
    "        \n",
    "sns.heatmap(\n",
    "    p_values,\n",
    "    xticklabels=diets,\n",
    "    yticklabels=diets,\n",
    ")\n",
    "plt.show()"
   ]
  },
  {
   "cell_type": "markdown",
   "id": "b2a0d398",
   "metadata": {},
   "source": [
    "However this thinking is flawed. As we do more and more tests, it becomes increasingly likely that some of those tests will be deemed \"significant\". As an illustrative example, consider rolling two regular 6-sided dice:\n",
    "\n",
    "We know that the rolls of the two dice are completely unrelated to each other.\n",
    "But even so, by complete random chance we'd expect both dice to roll the same number $\\frac{6}{36}=\\frac{1}{6}=16\\%$ of the time.\n",
    "\n",
    "Now if we roll these two dice many many more times, we'd expect the number of times they roll the same number to increase, even though they're rolling *completely at random* . For example if we roll both dice 20 times, the probability of the two dice rolling a different number every single one of the 20 times is $(1-\\frac{1}{6})^{20}=2.5\\%$.\n",
    "\n",
    "\n",
    "This is the same thing as performing multiple comparisons. If we do one comparison, then that's the same as doing one roll of both dice. But if we keep on rolling the dice, and keep on doing more comparisons, then eventually the dice will come out the same and eventually we'll find something that's \"statistically significant\" *by complete random chance*.\n",
    "\n",
    "If you keep on testing, you'll eventually find something \"significant\".\n",
    "\n",
    "Maybe xkcd said it best:\n",
    "\n",
    "![](https://imgs.xkcd.com/comics/significant.png)\n",
    "\n",
    "\n",
    "So if you want to compare multiple groups, you best take a look at dedicated statistical test for multiple comparisons:\n",
    "\n",
    "- [Wikipedia](https://en.wikipedia.org/wiki/Multiple_comparisons_problem)\n",
    "- [SciPy Docs](https://www.statsmodels.org/stable/generated/statsmodels.stats.multitest.multipletests.html)"
   ]
  },
  {
   "cell_type": "markdown",
   "id": "803dfb11",
   "metadata": {},
   "source": [
    "## Simpson's paradox"
   ]
  },
  {
   "cell_type": "markdown",
   "id": "91e2bd1e",
   "metadata": {},
   "source": [
    "Simpson's paradox is dreadfully difficult to spot if you aren't looking for it. It comes about when you are trying to compare the averages of two groups, and when you do so it looks like the average of group A are less than the average of group B. However, when you look a bit deeper you see that there's actually some *latent variable* at play, and group A has a different distribution of this latent variable, which causes group A to have a lower average than group B.\n",
    "\n",
    "Let's look at an example: The California Department of Developmental Services expenditures to help developmentally-disabled individuals in 2014. This dataset has one variable that we're interested in: `Expenditures` which describes how much money someone received. The age, ethnicity, and gender of the recipient of each grant is also recorded.\n",
    "\n",
    "If we plot the expenditure against the ethnicity of the recipient, it seems like `Hispanic` people are receiving far less on average than `White not Hispanic` people:"
   ]
  },
  {
   "cell_type": "code",
   "execution_count": null,
   "id": "393546e0",
   "metadata": {
    "ExecuteTime": {
     "end_time": "2022-11-05T11:02:21.722965Z",
     "start_time": "2022-11-05T11:02:21.663086Z"
    }
   },
   "outputs": [],
   "source": [
    "sns.boxenplot(\n",
    "    data=cali.sort_values('Age Cohort'),\n",
    "    x='Expenditures',\n",
    "    y='Ethnicity',\n",
    ")\n",
    "\n",
    "plt.title('Expenditure by Ethnicity')"
   ]
  },
  {
   "cell_type": "markdown",
   "id": "dbb940e3",
   "metadata": {},
   "source": [
    "And if we split the data by `Age Cohort`, we see another trend: Older people receive more disability grant money:"
   ]
  },
  {
   "cell_type": "code",
   "execution_count": null,
   "id": "c26db42b",
   "metadata": {
    "ExecuteTime": {
     "end_time": "2022-11-05T11:02:21.802967Z",
     "start_time": "2022-11-05T11:02:21.728380Z"
    }
   },
   "outputs": [],
   "source": [
    "sns.boxenplot(\n",
    "    data=cali.sort_values('Age Cohort'),\n",
    "    x='Expenditures',\n",
    "    y='Age Cohort',\n",
    ")"
   ]
  },
  {
   "cell_type": "markdown",
   "id": "df108caa",
   "metadata": {},
   "source": [
    "This is to be expected, as the elderly are more likely to need disability grant money.\n",
    "\n",
    "So if we now split the population by both Ethnicity and by Age, we will see that each age bracket of `Hispanic` people do not receive significantly less than each age bracket of `White not Hispanic` people:"
   ]
  },
  {
   "cell_type": "code",
   "execution_count": null,
   "id": "2bc8ccfb",
   "metadata": {
    "ExecuteTime": {
     "end_time": "2022-11-05T11:02:21.962980Z",
     "start_time": "2022-11-05T11:02:21.803994Z"
    },
    "code_folding": []
   },
   "outputs": [],
   "source": [
    "_fig, axs = plt.subplots(2, 1, figsize=(10, 7))\n",
    "sns.boxenplot(\n",
    "    data=cali.sort_values('Age Cohort'),\n",
    "    x='Expenditures',\n",
    "    y='Ethnicity',\n",
    "    ax=axs[1],\n",
    ")\n",
    "\n",
    "sns.boxenplot(\n",
    "    data=cali.sort_values('Age Cohort'),\n",
    "    x='Expenditures',\n",
    "    hue='Ethnicity',\n",
    "    y='Age Cohort',\n",
    "#     dodge=True,\n",
    "#     alpha=0.1,\n",
    "    ax=axs[0],\n",
    "#     s=3\n",
    "#     legend='topright',\n",
    ");\n",
    "axs[1].set_title('Expenditures by ethnicity')\n",
    "axs[0].set_title('Expenditures by ethnicity and age')\n",
    "plt.tight_layout()\n",
    "plt.show()"
   ]
  },
  {
   "cell_type": "markdown",
   "id": "31ab1128",
   "metadata": {},
   "source": [
    "The reason why splitting the data by ethnicity made it seem like `Hispanic` people received less grant expenditure was because `Hispanic` recipients are younger than `White not Hispanic` recipients:"
   ]
  },
  {
   "cell_type": "code",
   "execution_count": null,
   "id": "77cecc4c",
   "metadata": {
    "ExecuteTime": {
     "end_time": "2022-11-05T11:02:22.015291Z",
     "start_time": "2022-11-05T11:02:21.963986Z"
    },
    "code_folding": [
     0
    ]
   },
   "outputs": [],
   "source": [
    "sns.boxenplot(\n",
    "    data=cali.sort_values('Age Cohort'),\n",
    "    x='Age',\n",
    "    y='Ethnicity'\n",
    ")\n",
    "plt.title('Age of different Ethnicities')\n",
    "plt.show()"
   ]
  },
  {
   "cell_type": "markdown",
   "id": "b7e2afc6",
   "metadata": {},
   "source": [
    "So `Hispanic` people are younger, and younger people receive less money, so `Hispanic` people receive less money. But if you look at each age group of hispanic and white people, they each receive the same amount of money.\n",
    "\n",
    "It is possible that there could be a reason why `Hispanic` people are younger than `White not Hispanic` people, but that cannot be discerned from the data."
   ]
  },
  {
   "cell_type": "markdown",
   "id": "8a0e24e8",
   "metadata": {},
   "source": [
    "## Berkson's Paradox\n",
    "\n",
    "Berkson's paradox is a special form of survivorship bias, in which you only observe a small portion of the population and that leads you to make incorrect conclusions about the whole population, based on what you've observed in your small sample.\n",
    "\n",
    "Let's generate an example of books, where a book has a popularity between 0 and 1, and a binge-ability between 0 and 1. Let's also assume that our books are evenly distributed, so there's no connection between the popularity of a book and how likely we are to binge-read it all in one sitting:"
   ]
  },
  {
   "cell_type": "code",
   "execution_count": null,
   "id": "b5135bd3",
   "metadata": {
    "ExecuteTime": {
     "end_time": "2022-11-05T11:02:22.077432Z",
     "start_time": "2022-11-05T11:02:22.016183Z"
    },
    "code_folding": []
   },
   "outputs": [],
   "source": [
    "# Plot the bingeability and popularity of 1000 randomly generated books\n",
    "books = pd.DataFrame()\n",
    "books['popularity'] = np.random.random(1000)\n",
    "books['bingeability'] = np.random.random(1000)\n",
    "\n",
    "sns.scatterplot(\n",
    "    data=books,\n",
    "    x='popularity',\n",
    "    y='bingeability'\n",
    ")\n",
    "plt.title('Bingability and Popularity of Books')\n",
    "plt.xlabel('Popularity')\n",
    "plt.ylabel('Bingeability')\n",
    "plt.show()"
   ]
  },
  {
   "cell_type": "markdown",
   "id": "b693c66e",
   "metadata": {},
   "source": [
    "We'll probably only ever see books which are pretty popular or pretty bingeable. For our example, let's say that we might come across an unbingeable book, but only if it's really popular. And conversely, we might come across an unpopular book, but only if it's really bingeable. Then the books we come across looks like this:"
   ]
  },
  {
   "cell_type": "code",
   "execution_count": null,
   "id": "8cd89cfc",
   "metadata": {
    "ExecuteTime": {
     "end_time": "2022-11-05T11:02:22.151533Z",
     "start_time": "2022-11-05T11:02:22.078777Z"
    }
   },
   "outputs": [],
   "source": [
    "books['observed'] = ((1-books['popularity']) * (1-books['bingeability'])) < 0.1\n",
    "sns.scatterplot(\n",
    "    data=books[books.observed],\n",
    "    x='popularity',\n",
    "    y='bingeability',\n",
    "    hue='observed'\n",
    ")\n",
    "plt.title('Bingability and Popularity of Books')\n",
    "plt.xlabel('Popularity')\n",
    "plt.ylabel('Bingeability')\n",
    "plt.show()"
   ]
  },
  {
   "cell_type": "markdown",
   "id": "9f13a01e",
   "metadata": {},
   "source": [
    "And if we draw the line of best fit through this data, then it suddenly looks like there's a negative correlation between popularity and bingeability:"
   ]
  },
  {
   "cell_type": "code",
   "execution_count": null,
   "id": "1c5a660c",
   "metadata": {
    "ExecuteTime": {
     "end_time": "2022-11-05T11:02:22.247208Z",
     "start_time": "2022-11-05T11:02:22.152583Z"
    }
   },
   "outputs": [],
   "source": [
    "sns.regplot(\n",
    "    data=books[books.observed],\n",
    "    x='popularity',\n",
    "    y='bingeability',\n",
    ")\n",
    "plt.title('Bingability and Popularity of Books')\n",
    "plt.xlabel('Popularity')\n",
    "plt.ylabel('Bingeability')\n",
    "plt.show()"
   ]
  },
  {
   "cell_type": "markdown",
   "id": "1fa55610",
   "metadata": {},
   "source": [
    "All the popular books are unbingeable, and all the popular books are unpopular!\n",
    "\n",
    "This effect can cause the rating of books to *decrease* after they win a major prize, because far more people read the book and the mean regresses downwards because it is no longer just being read by people who are already likely to binge that book.\n",
    "\n",
    "One can imagine the same situation happening while dating: If you only ever consider people who are at least vaguely nice and at least vaguely attractive, then if you examine the people you're considering you'll find that the attractive ones are less nice than average, and the nice ones are less attractive than average. This happens even though the entire population has equal quantities of nice and attractive people."
   ]
  },
  {
   "cell_type": "markdown",
   "id": "f4a70eb7",
   "metadata": {},
   "source": [
    "## Conclusion\n",
    "\n",
    "This report has analysed common data science mistakes and how to spot them. These mistakes can be numeric or visual, and the implications range from a confused reader to incorrect conclusions."
   ]
  }
 ],
 "metadata": {
  "kernelspec": {
   "display_name": "Python 3 (ipykernel)",
   "language": "python",
   "name": "python3"
  },
  "language_info": {
   "codemirror_mode": {
    "name": "ipython",
    "version": 3
   },
   "file_extension": ".py",
   "mimetype": "text/x-python",
   "name": "python",
   "nbconvert_exporter": "python",
   "pygments_lexer": "ipython3",
   "version": "3.9.4"
  },
  "varInspector": {
   "cols": {
    "lenName": 16,
    "lenType": 16,
    "lenVar": 40
   },
   "kernels_config": {
    "python": {
     "delete_cmd_postfix": "",
     "delete_cmd_prefix": "del ",
     "library": "var_list.py",
     "varRefreshCmd": "print(var_dic_list())"
    },
    "r": {
     "delete_cmd_postfix": ") ",
     "delete_cmd_prefix": "rm(",
     "library": "var_list.r",
     "varRefreshCmd": "cat(var_dic_list()) "
    }
   },
   "types_to_exclude": [
    "module",
    "function",
    "builtin_function_or_method",
    "instance",
    "_Feature"
   ],
   "window_display": false
  }
 },
 "nbformat": 4,
 "nbformat_minor": 5
}
